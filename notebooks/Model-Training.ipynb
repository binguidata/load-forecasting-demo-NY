{
 "cells": [
  {
   "cell_type": "markdown",
   "metadata": {},
   "source": [
    "## Train the model."
   ]
  },
  {
   "cell_type": "code",
   "execution_count": 2,
   "metadata": {},
   "outputs": [],
   "source": [
    "import joblib"
   ]
  },
  {
   "cell_type": "code",
   "execution_count": 4,
   "metadata": {},
   "outputs": [],
   "source": [
    "load_and_weather_data_final = joblib.load('/volumes/data/notebook2/load_and_weather_data_final')"
   ]
  },
  {
   "cell_type": "code",
   "execution_count": 5,
   "metadata": {},
   "outputs": [],
   "source": [
    "# features to use in training\n",
    "features = [\n",
    "    feature for feature in load_and_weather_data_final.columns\n",
    "    if ('dewpoint_' in feature or \n",
    "        'temperature_' in feature or\n",
    "        'month_' in feature or \n",
    "        'weekday_' in feature or\n",
    "        'day_' in feature or\n",
    "        'year' == feature or\n",
    "        'load' == feature or \n",
    "        'hour' == feature)]"
   ]
  },
  {
   "cell_type": "code",
   "execution_count": null,
   "metadata": {},
   "outputs": [],
   "source": [
    "def train_model(load_and_weather_data_final, features, save=None):\n",
    "    \"\"\"\n",
    "    Train a Random Forest Model on the load and weather features.\n",
    "    Args:\n",
    "        load_and_weather_data_final: Dataframe: The processed and standardized dataframe of load and\n",
    "            weather features to be used for the training.\n",
    "        features: List: List of features to be used for the training.\n",
    "        save: String: Path to save the model to.\n",
    "\n",
    "    Returns:\n",
    "        regr: RandomForestRegressor: Trained model.\n",
    "    \"\"\"\n",
    "\n",
    "    from sklearn.ensemble import RandomForestRegressor\n",
    "    # from sklearn.model_selection import train_test_split\n",
    "\n",
    "    # X_train, X_test, y_train, y_test = train_test_split(\n",
    "    #     load_and_weather_data_final[features], \n",
    "    #     load_and_weather_data_final['load_tomorrow'],\n",
    "    #     test_size=0.2,\n",
    "    #     random_state=42)\n",
    "\n",
    "    X_train, y_train = load_and_weather_data_final[features], load_and_weather_data_final['load_tomorrow']\n",
    "\n",
    "    regr = RandomForestRegressor(\n",
    "        n_estimators=1000,\n",
    "        max_depth=40, \n",
    "        random_state=42)\n",
    "\n",
    "    regr.fit(X_train, y_train)\n",
    "\n",
    "    if save:\n",
    "        joblib.dump(regr, os.path.join(save, 'regr.model'))\n",
    "\n",
    "    return regr\n",
    "\n",
    "regr = train_model(load_and_weather_data_final, features, save='/volumes/data/notebook2')"
   ]
  }
 ],
 "metadata": {
  "kernelspec": {
   "display_name": "Python 3",
   "language": "python",
   "name": "python3"
  },
  "language_info": {
   "codemirror_mode": {
    "name": "ipython",
    "version": 3
   },
   "file_extension": ".py",
   "mimetype": "text/x-python",
   "name": "python",
   "nbconvert_exporter": "python",
   "pygments_lexer": "ipython3",
   "version": "3.6.4"
  }
 },
 "nbformat": 4,
 "nbformat_minor": 2
}
